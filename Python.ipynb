{
 "cells": [
  {
   "cell_type": "markdown",
   "id": "afdef1dc",
   "metadata": {},
   "source": [
    "# Ex1: Participant Exercise\n",
    "Define two variables called called age and income assign values 30 and 50000.0 respectively\n",
    "\n",
    "Write a print statement using f-string to print the output as following:\n",
    "\n",
    "\"Age is: 30 Years and Income is: INR 50000.0\"\n",
    "\n",
    "Write an if-else condition\n",
    "\n",
    "if age is more than 25 and less than 40 years and income is more than 30000.0 then set a variable named \"approved\" to True or set to False."
   ]
  },
  {
   "cell_type": "markdown",
   "id": "a967104f",
   "metadata": {},
   "source": [
    "### Define two variables called called age and income assign values 30 and 50000.0 respectively"
   ]
  },
  {
   "cell_type": "code",
   "execution_count": 1,
   "id": "0c22e30c",
   "metadata": {},
   "outputs": [],
   "source": [
    "age=30\n",
    "income=50000.0"
   ]
  },
  {
   "cell_type": "markdown",
   "id": "b96d923c",
   "metadata": {},
   "source": [
    "### Write a print statement using f-string to print the output as following:\n",
    "\n",
    "#### \"Age is: 30 Years and Income is: INR 50000.0\"\n",
    "\n"
   ]
  },
  {
   "cell_type": "code",
   "execution_count": 2,
   "id": "265cb997",
   "metadata": {},
   "outputs": [
    {
     "name": "stdout",
     "output_type": "stream",
     "text": [
      "Age is: 30 Years and Income is: INR 50000.0\n"
     ]
    }
   ],
   "source": [
    "print(f\"Age is: {age} Years and Income is: INR {income}\")"
   ]
  },
  {
   "cell_type": "markdown",
   "id": "0ec785ef",
   "metadata": {},
   "source": [
    "## Write an if-else condition\n",
    "\n",
    "#### if age is more than 25 and less than 40 years and income is more than 30000.0 then set a variable named \"approved\" to True or set to False."
   ]
  },
  {
   "cell_type": "code",
   "execution_count": 3,
   "id": "9a5b7114",
   "metadata": {},
   "outputs": [],
   "source": [
    "if age>25 and age<40 and income>30000.0:\n",
    "    approved=True\n",
    "else:\n",
    "    approved=False"
   ]
  },
  {
   "cell_type": "code",
   "execution_count": 4,
   "id": "4f6fbb41",
   "metadata": {},
   "outputs": [
    {
     "name": "stdout",
     "output_type": "stream",
     "text": [
      "True\n"
     ]
    }
   ],
   "source": [
    "print(approved)"
   ]
  },
  {
   "cell_type": "markdown",
   "id": "6c406130",
   "metadata": {},
   "source": [
    "# Ex2: Participant Exercise\n",
    "#### Write a function\n",
    "#### named getAgeGroup\n",
    "#### which takes a paramter age\n",
    "#### the default value of the age is 25\n",
    "#### it returns the age group as either \"young\" or \"adult\" or 'mid-age\" or \"old\" based on age\n",
    "#### if age < 20, then return young\n",
    "#### if age >= 20, but < 35 then adult\n",
    "#### if age >= 35, but < 55 then mid-age\n",
    "#### if age > 55 then old\n",
    "#### Invoke the function with different ages and test"
   ]
  },
  {
   "cell_type": "code",
   "execution_count": 11,
   "id": "c4d8eb34",
   "metadata": {},
   "outputs": [],
   "source": [
    "def getAgeGroup(age=25):\n",
    "    if age < 20:\n",
    "        return 'young'\n",
    "    elif age >= 20 and  age < 35:\n",
    "        return 'adult'\n",
    "    elif age >= 35 and age < 55:\n",
    "        return 'mid-age'\n",
    "    elif age > 55:\n",
    "        return 'old'\n",
    "    else:\n",
    "        return \"out of range\""
   ]
  },
  {
   "cell_type": "code",
   "execution_count": 6,
   "id": "827720fa",
   "metadata": {},
   "outputs": [
    {
     "data": {
      "text/plain": [
       "'adult'"
      ]
     },
     "execution_count": 6,
     "metadata": {},
     "output_type": "execute_result"
    }
   ],
   "source": [
    "getAgeGroup()"
   ]
  },
  {
   "cell_type": "code",
   "execution_count": 7,
   "id": "e6111380",
   "metadata": {},
   "outputs": [
    {
     "data": {
      "text/plain": [
       "'adult'"
      ]
     },
     "execution_count": 7,
     "metadata": {},
     "output_type": "execute_result"
    }
   ],
   "source": [
    "getAgeGroup(20)"
   ]
  },
  {
   "cell_type": "code",
   "execution_count": 8,
   "id": "56493f2b",
   "metadata": {},
   "outputs": [
    {
     "data": {
      "text/plain": [
       "'young'"
      ]
     },
     "execution_count": 8,
     "metadata": {},
     "output_type": "execute_result"
    }
   ],
   "source": [
    "getAgeGroup(10)"
   ]
  },
  {
   "cell_type": "code",
   "execution_count": 9,
   "id": "59edf52b",
   "metadata": {},
   "outputs": [
    {
     "data": {
      "text/plain": [
       "'mid-age'"
      ]
     },
     "execution_count": 9,
     "metadata": {},
     "output_type": "execute_result"
    }
   ],
   "source": [
    "getAgeGroup(40)"
   ]
  },
  {
   "cell_type": "code",
   "execution_count": 12,
   "id": "0aaa894e",
   "metadata": {},
   "outputs": [
    {
     "data": {
      "text/plain": [
       "'out of range'"
      ]
     },
     "execution_count": 12,
     "metadata": {},
     "output_type": "execute_result"
    }
   ],
   "source": [
    "getAgeGroup(55)"
   ]
  },
  {
   "cell_type": "code",
   "execution_count": 13,
   "id": "2876cdd9",
   "metadata": {},
   "outputs": [
    {
     "data": {
      "text/plain": [
       "'old'"
      ]
     },
     "execution_count": 13,
     "metadata": {},
     "output_type": "execute_result"
    }
   ],
   "source": [
    "getAgeGroup(70)"
   ]
  },
  {
   "cell_type": "markdown",
   "id": "0ea3d70c",
   "metadata": {},
   "source": [
    "# Ex3: Participant Exercise\n",
    "## Creata a list with the following 10 student names\n",
    "\n",
    "Krishnaa J., Jyoti Adhya, C. Haradas, Korravai Parikh, Saurandhri Vaknis, Sambridhi Holkar, Sita Padhy, Ambika Sanyal, Nehal Vadekar, Sarama Upalekar\n",
    "\n",
    "### Create two lists named \"math_scores\" and \"science_scores\"\n",
    "\n",
    "### Populate the above two variables with randomly generated numbers between 20 and 90\n",
    "\n",
    "#### Both the scores should have exactly 10 items only. Assume that the names and scores are mapped in the same sequence.\n",
    "\n",
    "### Write a function which takes math and science score of each individual returns the total score and grade\n",
    "\n",
    "#### Grade is Pass if both the scores are greater than equal to 50\n",
    "#### Grade is Fail if any one of the scores is less than 50\n",
    "#### The function should return a tuple with total score and grade e.g. (110, \"Pass\")\n",
    "#### Iterate through the student names and invoke the above function\n",
    "\n",
    "#### Store all information in a dictionary with names as keys and results (tuple with total score and grade) as values.\n",
    "\n",
    "####  Print the dictionary"
   ]
  },
  {
   "cell_type": "code",
   "execution_count": 15,
   "id": "648d1d75",
   "metadata": {},
   "outputs": [],
   "source": [
    "Student_Names=['Krishnaa J.', 'Jyoti Adhya', 'C. Haradas', 'Korravai Parikh', 'Saurandhri Vaknis', 'Sambridhi Holkar', 'Sita Padhy', 'Ambika Sanyal', 'Nehal Vadekar', 'Sarama Upalekar']"
   ]
  },
  {
   "cell_type": "code",
   "execution_count": 16,
   "id": "34e87c36",
   "metadata": {},
   "outputs": [
    {
     "data": {
      "text/plain": [
       "['Krishnaa J.',\n",
       " 'Jyoti Adhya',\n",
       " 'C. Haradas',\n",
       " 'Korravai Parikh',\n",
       " 'Saurandhri Vaknis',\n",
       " 'Sambridhi Holkar',\n",
       " 'Sita Padhy',\n",
       " 'Ambika Sanyal',\n",
       " 'Nehal Vadekar',\n",
       " 'Sarama Upalekar']"
      ]
     },
     "execution_count": 16,
     "metadata": {},
     "output_type": "execute_result"
    }
   ],
   "source": [
    "Student_Names"
   ]
  },
  {
   "cell_type": "code",
   "execution_count": 32,
   "id": "dceceb43",
   "metadata": {},
   "outputs": [],
   "source": [
    "from random import randint\n",
    "math_scores=[random.randint(20,90) for i in range(10)]\n",
    "science_scores=[random.randint(20,90) for i in range(10)]"
   ]
  },
  {
   "cell_type": "code",
   "execution_count": 33,
   "id": "77e99e73",
   "metadata": {},
   "outputs": [
    {
     "data": {
      "text/plain": [
       "[56, 90, 87, 27, 50, 86, 65, 84, 82, 44]"
      ]
     },
     "execution_count": 33,
     "metadata": {},
     "output_type": "execute_result"
    }
   ],
   "source": [
    "math_scores"
   ]
  },
  {
   "cell_type": "code",
   "execution_count": 34,
   "id": "8896883a",
   "metadata": {},
   "outputs": [
    {
     "data": {
      "text/plain": [
       "[20, 85, 49, 61, 20, 22, 74, 49, 87, 68]"
      ]
     },
     "execution_count": 34,
     "metadata": {},
     "output_type": "execute_result"
    }
   ],
   "source": [
    "science_scores"
   ]
  },
  {
   "cell_type": "code",
   "execution_count": 46,
   "id": "c3fcd7db",
   "metadata": {},
   "outputs": [],
   "source": [
    "def GradeCalc(math,sci):\n",
    "    tot=math+sci\n",
    "    if math>=50 and sci>=50:\n",
    "        grade='pass'\n",
    "    elif math<50 or sci<50:\n",
    "        grade='Fail'\n",
    "    return((tot, grade))"
   ]
  },
  {
   "cell_type": "code",
   "execution_count": 47,
   "id": "e9978132",
   "metadata": {},
   "outputs": [],
   "source": [
    "Zip_Tuple=zip(Student_Names,math_scores,science_scores)\n",
    "\n"
   ]
  },
  {
   "cell_type": "code",
   "execution_count": 48,
   "id": "cc957fe1",
   "metadata": {},
   "outputs": [],
   "source": [
    "Dict={}\n",
    "\n",
    "for name, mat,sc in Zip_Tuple:\n",
    "    temp=GradeCalc(mat,sc)\n",
    "    Dict[name]=temp\n"
   ]
  },
  {
   "cell_type": "code",
   "execution_count": 49,
   "id": "9e3a3eee",
   "metadata": {},
   "outputs": [
    {
     "data": {
      "text/plain": [
       "{'Krishnaa J.': (76, 'Fail'),\n",
       " 'Jyoti Adhya': (175, 'pass'),\n",
       " 'C. Haradas': (136, 'Fail'),\n",
       " 'Korravai Parikh': (88, 'Fail'),\n",
       " 'Saurandhri Vaknis': (70, 'Fail'),\n",
       " 'Sambridhi Holkar': (108, 'Fail'),\n",
       " 'Sita Padhy': (139, 'pass'),\n",
       " 'Ambika Sanyal': (133, 'Fail'),\n",
       " 'Nehal Vadekar': (169, 'pass'),\n",
       " 'Sarama Upalekar': (112, 'Fail')}"
      ]
     },
     "execution_count": 49,
     "metadata": {},
     "output_type": "execute_result"
    }
   ],
   "source": [
    "Dict\n",
    "\n"
   ]
  },
  {
   "cell_type": "markdown",
   "id": "2b2ff2f3",
   "metadata": {},
   "source": [
    "Ex4: Participant Exercise\n",
    "The variable daily_prices contains information about a stock open and close prices for 10 days\n",
    "Calculate the daily gains and create a dictionary which stores the date and daily gains as shown below\n",
    "[{'Date': '17-05-2016', 'Gain': -0.32},\n",
    " {'Date': '16-05-2016', 'Gain': 0.33},\n",
    " {'Date': '13-05-2016', 'Gain': -0.02},\n",
    " {'Date': '12-05-2016', 'Gain': 0.1},\n",
    " {'Date': '11-05-2016', 'Gain': -0.33},\n",
    " {'Date': '10-05-2016', 'Gain': 1.05},\n",
    " {'Date': '09-05-2016', 'Gain': 0.77},\n",
    " {'Date': '06-05-2016', 'Gain': -0.89},\n",
    " {'Date': '05-05-2016', 'Gain': 0.12},\n",
    " {'Date': '04-05-2016', 'Gain': -0.12}]\n",
    "The gain should be calculated as (Close - Open) *100 / Open.\n",
    "The gain value should be rounded to 2 decimal places\n",
    "Accomplish the above task using both the approaches: List comprehension and map() function"
   ]
  },
  {
   "cell_type": "code",
   "execution_count": 96,
   "id": "d915845c",
   "metadata": {},
   "outputs": [],
   "source": [
    "daily_prices = [ {'Date': '17-05-2016', 'Open': 1218.0, 'Close': 1214.05005},\n",
    "                 {'Date': '16-05-2016', 'Open': 1210.0, 'Close': 1213.94995},\n",
    "                 {'Date': '13-05-2016', 'Open': 1207.0, 'Close': 1206.69995},\n",
    "                 {'Date': '12-05-2016', 'Open': 1208.94995, 'Close': 1210.19995},\n",
    "                 {'Date': '11-05-2016', 'Open': 1205.0, 'Close': 1201.05005},\n",
    "                 {'Date': '10-05-2016', 'Open': 1200.0, 'Close': 1212.55005},\n",
    "                 {'Date': '09-05-2016', 'Open': 1190.0, 'Close': 1199.1500199999998},\n",
    "                 {'Date': '06-05-2016', 'Open': 1192.0, 'Close': 1181.44995},\n",
    "                 {'Date': '05-05-2016', 'Open': 1191.0, 'Close': 1192.44995},\n",
    "                 {'Date': '04-05-2016', 'Open': 1191.0, 'Close': 1189.55005} ]"
   ]
  },
  {
   "cell_type": "code",
   "execution_count": 99,
   "id": "7f8b66af",
   "metadata": {},
   "outputs": [],
   "source": [
    "def f(i):\n",
    "    dict1={}\n",
    "    temp1=round((i['Close']-i['Open'])*100/i['Open'],2)\n",
    "    dict1['Date']=i['Date']\n",
    "    dict1['Gain']=temp1\n",
    "    return(dict1)"
   ]
  },
  {
   "cell_type": "code",
   "execution_count": 100,
   "id": "ef646c2f",
   "metadata": {},
   "outputs": [],
   "source": [
    "List1 = [f(x) for x in daily_prices]"
   ]
  },
  {
   "cell_type": "code",
   "execution_count": 101,
   "id": "5ec9c03e",
   "metadata": {},
   "outputs": [
    {
     "data": {
      "text/plain": [
       "[{'Date': '17-05-2016', 'Gain': -0.32},\n",
       " {'Date': '16-05-2016', 'Gain': 0.33},\n",
       " {'Date': '13-05-2016', 'Gain': -0.02},\n",
       " {'Date': '12-05-2016', 'Gain': 0.1},\n",
       " {'Date': '11-05-2016', 'Gain': -0.33},\n",
       " {'Date': '10-05-2016', 'Gain': 1.05},\n",
       " {'Date': '09-05-2016', 'Gain': 0.77},\n",
       " {'Date': '06-05-2016', 'Gain': -0.89},\n",
       " {'Date': '05-05-2016', 'Gain': 0.12},\n",
       " {'Date': '04-05-2016', 'Gain': -0.12}]"
      ]
     },
     "execution_count": 101,
     "metadata": {},
     "output_type": "execute_result"
    }
   ],
   "source": [
    "List1"
   ]
  },
  {
   "cell_type": "code",
   "execution_count": 104,
   "id": "0958e5e7",
   "metadata": {},
   "outputs": [],
   "source": [
    "List1=map(f,daily_prices)"
   ]
  },
  {
   "cell_type": "code",
   "execution_count": 106,
   "id": "b49e019b",
   "metadata": {},
   "outputs": [
    {
     "data": {
      "text/plain": [
       "[{'Date': '17-05-2016', 'Gain': -0.32},\n",
       " {'Date': '16-05-2016', 'Gain': 0.33},\n",
       " {'Date': '13-05-2016', 'Gain': -0.02},\n",
       " {'Date': '12-05-2016', 'Gain': 0.1},\n",
       " {'Date': '11-05-2016', 'Gain': -0.33},\n",
       " {'Date': '10-05-2016', 'Gain': 1.05},\n",
       " {'Date': '09-05-2016', 'Gain': 0.77},\n",
       " {'Date': '06-05-2016', 'Gain': -0.89},\n",
       " {'Date': '05-05-2016', 'Gain': 0.12},\n",
       " {'Date': '04-05-2016', 'Gain': -0.12}]"
      ]
     },
     "execution_count": 106,
     "metadata": {},
     "output_type": "execute_result"
    }
   ],
   "source": [
    "list(List1)"
   ]
  },
  {
   "cell_type": "code",
   "execution_count": null,
   "id": "277cb40b",
   "metadata": {},
   "outputs": [],
   "source": []
  }
 ],
 "metadata": {
  "kernelspec": {
   "display_name": "Python 3 (ipykernel)",
   "language": "python",
   "name": "python3"
  },
  "language_info": {
   "codemirror_mode": {
    "name": "ipython",
    "version": 3
   },
   "file_extension": ".py",
   "mimetype": "text/x-python",
   "name": "python",
   "nbconvert_exporter": "python",
   "pygments_lexer": "ipython3",
   "version": "3.10.5"
  }
 },
 "nbformat": 4,
 "nbformat_minor": 5
}
